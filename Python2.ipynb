{
  "nbformat": 4,
  "nbformat_minor": 0,
  "metadata": {
    "colab": {
      "provenance": [],
      "toc_visible": true
    },
    "kernelspec": {
      "name": "python3",
      "display_name": "Python 3"
    },
    "language_info": {
      "name": "python"
    }
  },
  "cells": [
    {
      "cell_type": "code",
      "execution_count": null,
      "metadata": {
        "id": "ulZcrfTURlP8"
      },
      "outputs": [],
      "source": []
    },
    {
      "cell_type": "markdown",
      "source": [
        "# operators"
      ],
      "metadata": {
        "id": "wb0WbZs0ZG_D"
      }
    },
    {
      "cell_type": "code",
      "source": [
        "a=10\n",
        "b=25"
      ],
      "metadata": {
        "id": "8ykZThINZL39"
      },
      "execution_count": null,
      "outputs": []
    },
    {
      "cell_type": "code",
      "source": [
        "a+b"
      ],
      "metadata": {
        "colab": {
          "base_uri": "https://localhost:8080/"
        },
        "id": "f9SwUMEOZTtv",
        "outputId": "451c9570-bcb6-4561-fe3b-0d91e5a9590c"
      },
      "execution_count": null,
      "outputs": [
        {
          "output_type": "execute_result",
          "data": {
            "text/plain": [
              "35"
            ]
          },
          "metadata": {},
          "execution_count": 3
        }
      ]
    },
    {
      "cell_type": "code",
      "source": [
        "a-b"
      ],
      "metadata": {
        "colab": {
          "base_uri": "https://localhost:8080/"
        },
        "id": "twby6sMHZYEc",
        "outputId": "25eb2450-0e56-40fa-b6cf-7dcf2f9600f1"
      },
      "execution_count": null,
      "outputs": [
        {
          "output_type": "execute_result",
          "data": {
            "text/plain": [
              "-15"
            ]
          },
          "metadata": {},
          "execution_count": 4
        }
      ]
    },
    {
      "cell_type": "code",
      "source": [
        "a*b"
      ],
      "metadata": {
        "colab": {
          "base_uri": "https://localhost:8080/"
        },
        "id": "YMTDHXs_ZhDM",
        "outputId": "98cd21eb-3551-4d8c-f4e5-369e4d13f0b0"
      },
      "execution_count": null,
      "outputs": [
        {
          "output_type": "execute_result",
          "data": {
            "text/plain": [
              "250"
            ]
          },
          "metadata": {},
          "execution_count": 5
        }
      ]
    },
    {
      "cell_type": "code",
      "source": [
        "print(\"multiplication:\"+str(a*b))"
      ],
      "metadata": {
        "colab": {
          "base_uri": "https://localhost:8080/"
        },
        "id": "uH6Kh7WvZjFc",
        "outputId": "b9fffbe4-c725-43ad-d960-42db144a909e"
      },
      "execution_count": null,
      "outputs": [
        {
          "output_type": "stream",
          "name": "stdout",
          "text": [
            "multiplication:250\n"
          ]
        }
      ]
    },
    {
      "cell_type": "code",
      "source": [
        "a/b"
      ],
      "metadata": {
        "colab": {
          "base_uri": "https://localhost:8080/"
        },
        "id": "x5WHC2PKZ6w6",
        "outputId": "6420975c-c83e-42c4-bc8b-696adf75e134"
      },
      "execution_count": null,
      "outputs": [
        {
          "output_type": "execute_result",
          "data": {
            "text/plain": [
              "0.4"
            ]
          },
          "metadata": {},
          "execution_count": 8
        }
      ]
    },
    {
      "cell_type": "code",
      "source": [
        "a//b"
      ],
      "metadata": {
        "colab": {
          "base_uri": "https://localhost:8080/"
        },
        "id": "VN3C2RFoaDkq",
        "outputId": "b73367f3-20aa-4893-903f-27836fb9b778"
      },
      "execution_count": null,
      "outputs": [
        {
          "output_type": "execute_result",
          "data": {
            "text/plain": [
              "0"
            ]
          },
          "metadata": {},
          "execution_count": 9
        }
      ]
    },
    {
      "cell_type": "code",
      "source": [
        "a=12\n",
        "b=5"
      ],
      "metadata": {
        "id": "hlb0SwhEaGhZ"
      },
      "execution_count": null,
      "outputs": []
    },
    {
      "cell_type": "code",
      "source": [
        "a/b"
      ],
      "metadata": {
        "colab": {
          "base_uri": "https://localhost:8080/"
        },
        "id": "K_8rbwCDaPup",
        "outputId": "1d5eb6ea-ad8e-4028-c330-c70009779ac1"
      },
      "execution_count": null,
      "outputs": [
        {
          "output_type": "execute_result",
          "data": {
            "text/plain": [
              "2.4"
            ]
          },
          "metadata": {},
          "execution_count": 11
        }
      ]
    },
    {
      "cell_type": "code",
      "source": [
        "a=10\n",
        "b=4"
      ],
      "metadata": {
        "id": "Jzz3jutxaRYa"
      },
      "execution_count": null,
      "outputs": []
    },
    {
      "cell_type": "code",
      "source": [
        "a**b"
      ],
      "metadata": {
        "colab": {
          "base_uri": "https://localhost:8080/"
        },
        "id": "sf9mlnhPagQo",
        "outputId": "94c2308f-6c15-402e-af14-1a3745ca5c96"
      },
      "execution_count": null,
      "outputs": [
        {
          "output_type": "execute_result",
          "data": {
            "text/plain": [
              "10000"
            ]
          },
          "metadata": {},
          "execution_count": 13
        }
      ]
    },
    {
      "cell_type": "code",
      "source": [
        "d=7425\n",
        "s=550"
      ],
      "metadata": {
        "id": "2OI0nJfrai2Y"
      },
      "execution_count": null,
      "outputs": []
    },
    {
      "cell_type": "code",
      "source": [
        "t=d/s"
      ],
      "metadata": {
        "id": "TpStkl-MbdJV"
      },
      "execution_count": null,
      "outputs": []
    },
    {
      "cell_type": "code",
      "source": [
        "print(t)"
      ],
      "metadata": {
        "colab": {
          "base_uri": "https://localhost:8080/"
        },
        "id": "4QGYF4_nbfhF",
        "outputId": "7800dc64-3c24-43a5-999c-d74cd81a786e"
      },
      "execution_count": null,
      "outputs": [
        {
          "output_type": "stream",
          "name": "stdout",
          "text": [
            "13.5\n"
          ]
        }
      ]
    },
    {
      "cell_type": "code",
      "source": [
        "50*20/100"
      ],
      "metadata": {
        "colab": {
          "base_uri": "https://localhost:8080/"
        },
        "id": "t64dodn7blk0",
        "outputId": "15ec2d13-c281-4c39-96a8-39948508c85c"
      },
      "execution_count": null,
      "outputs": [
        {
          "output_type": "execute_result",
          "data": {
            "text/plain": [
              "10.0"
            ]
          },
          "metadata": {},
          "execution_count": 17
        }
      ]
    },
    {
      "cell_type": "code",
      "source": [
        "bill=50\n",
        "tip=20\n",
        "print(bill*tip/100)"
      ],
      "metadata": {
        "colab": {
          "base_uri": "https://localhost:8080/"
        },
        "id": "5WbKJ4cMcqkB",
        "outputId": "b7db5fdc-95fd-446a-884c-4dfe14ff3a00"
      },
      "execution_count": null,
      "outputs": [
        {
          "output_type": "stream",
          "name": "stdout",
          "text": [
            "10.0\n"
          ]
        }
      ]
    },
    {
      "cell_type": "code",
      "source": [
        "bill=50\n",
        "tip=50\n",
        "print(bill*tip/100)"
      ],
      "metadata": {
        "colab": {
          "base_uri": "https://localhost:8080/"
        },
        "id": "_rgtogDzc73w",
        "outputId": "b56d847b-3d56-4971-eea6-b01f046ba088"
      },
      "execution_count": null,
      "outputs": [
        {
          "output_type": "stream",
          "name": "stdout",
          "text": [
            "25.0\n"
          ]
        }
      ]
    },
    {
      "cell_type": "code",
      "source": [
        "bil=125\n",
        "tip=20\n",
        "print(bil*tip/100)"
      ],
      "metadata": {
        "colab": {
          "base_uri": "https://localhost:8080/"
        },
        "id": "uppb50scdJUv",
        "outputId": "3c3cb14e-73dc-4515-a49e-c25cdce4e2be"
      },
      "execution_count": null,
      "outputs": [
        {
          "output_type": "stream",
          "name": "stdout",
          "text": [
            "25.0\n"
          ]
        }
      ]
    },
    {
      "cell_type": "code",
      "source": [
        "bill=1024\n",
        "tip=20\n",
        "print(bill*tip/100)"
      ],
      "metadata": {
        "colab": {
          "base_uri": "https://localhost:8080/"
        },
        "id": "3JPYYRI6ddRO",
        "outputId": "487e71fe-1c42-4ced-a26f-fa3ff2f32b7b"
      },
      "execution_count": null,
      "outputs": [
        {
          "output_type": "stream",
          "name": "stdout",
          "text": [
            "204.8\n"
          ]
        }
      ]
    },
    {
      "cell_type": "code",
      "source": [
        "bill=54236\n",
        "tip=12\n",
        "print(bill*tip/100)\n"
      ],
      "metadata": {
        "colab": {
          "base_uri": "https://localhost:8080/"
        },
        "id": "FE8v3_Dhdi3u",
        "outputId": "13e8e7a7-e556-483d-aea7-5af22a52c117"
      },
      "execution_count": null,
      "outputs": [
        {
          "output_type": "stream",
          "name": "stdout",
          "text": [
            "6508.32\n"
          ]
        }
      ]
    },
    {
      "cell_type": "code",
      "source": [
        "bill=54236\n",
        "tip=12\n",
        "print(bill*tip/100)"
      ],
      "metadata": {
        "colab": {
          "base_uri": "https://localhost:8080/"
        },
        "id": "RrZrKCwxd0Bd",
        "outputId": "79cea944-368e-49d2-f637-f3073fdc0b11"
      },
      "execution_count": null,
      "outputs": [
        {
          "output_type": "stream",
          "name": "stdout",
          "text": [
            "6508.32\n"
          ]
        }
      ]
    },
    {
      "cell_type": "code",
      "source": [
        "a=10\n",
        "b=20\n",
        "print(a>b)\n",
        "print(a<b)\n",
        "print(a==b)\n",
        "print(a!=b)\n",
        "print(a>=b)\n",
        "print(a<=b)\n"
      ],
      "metadata": {
        "colab": {
          "base_uri": "https://localhost:8080/"
        },
        "id": "pC0F6uJDeFHs",
        "outputId": "5aae5cae-8c94-4eb5-8ba0-18fc6dcf7ada"
      },
      "execution_count": null,
      "outputs": [
        {
          "output_type": "stream",
          "name": "stdout",
          "text": [
            "False\n",
            "True\n",
            "False\n",
            "True\n",
            "False\n",
            "True\n"
          ]
        }
      ]
    },
    {
      "cell_type": "code",
      "source": [
        "a=-10\n",
        "b=20\n",
        "print(a>b)\n",
        "print(a<b)\n",
        "print(a==b)\n",
        "print(a!=b)\n",
        "print(a>=b)\n",
        "print(a<=b)\n"
      ],
      "metadata": {
        "colab": {
          "base_uri": "https://localhost:8080/"
        },
        "id": "L7wF3p-zf1Km",
        "outputId": "7a90c457-8061-418e-a381-392183c80996"
      },
      "execution_count": null,
      "outputs": [
        {
          "output_type": "stream",
          "name": "stdout",
          "text": [
            "False\n",
            "True\n",
            "False\n",
            "True\n",
            "False\n",
            "True\n"
          ]
        }
      ]
    },
    {
      "cell_type": "code",
      "source": [
        "a=50\n",
        "b=20\n",
        "print(a>b)\n",
        "print(a<b)\n",
        "print(a==b)\n",
        "print(a!=b)\n",
        "print(a>=b)\n",
        "print(a<=b)\n"
      ],
      "metadata": {
        "colab": {
          "base_uri": "https://localhost:8080/"
        },
        "id": "OOOIKEpJgBXl",
        "outputId": "acea2581-d9fe-4350-ccbe-0f4c28235c08"
      },
      "execution_count": null,
      "outputs": [
        {
          "output_type": "stream",
          "name": "stdout",
          "text": [
            "True\n",
            "False\n",
            "False\n",
            "True\n",
            "True\n",
            "False\n"
          ]
        }
      ]
    },
    {
      "cell_type": "code",
      "source": [
        "a=True\n",
        "b=False\n",
        "print(a and b)\n",
        "print(a or b)\n",
        "print(not a)"
      ],
      "metadata": {
        "colab": {
          "base_uri": "https://localhost:8080/"
        },
        "id": "xTmvjhC1gOXV",
        "outputId": "f9fc7f5a-053d-4de8-8da9-d56ce0ae7490"
      },
      "execution_count": null,
      "outputs": [
        {
          "output_type": "stream",
          "name": "stdout",
          "text": [
            "False\n",
            "True\n",
            "False\n"
          ]
        }
      ]
    },
    {
      "cell_type": "code",
      "source": [
        "a=10\n",
        "b=a\n",
        "print(b)\n",
        "b += a\n",
        "print(b)\n",
        "b -= a\n",
        "print(b)\n",
        "b *= a\n",
        "print(b)\n",
        "b /= a\n",
        "print(b)\n",
        "b %= a\n",
        "print(b)\n",
        "b //= a\n",
        "print(b)\n",
        "b **= a\n",
        "print(b)"
      ],
      "metadata": {
        "colab": {
          "base_uri": "https://localhost:8080/"
        },
        "id": "5lucPMmdg14j",
        "outputId": "460cdeb9-5f17-47a9-fa4f-da9a4448701d"
      },
      "execution_count": null,
      "outputs": [
        {
          "output_type": "stream",
          "name": "stdout",
          "text": [
            "10\n",
            "20\n",
            "10\n",
            "100\n",
            "10.0\n",
            "0.0\n",
            "0.0\n",
            "0.0\n"
          ]
        }
      ]
    },
    {
      "cell_type": "code",
      "source": [],
      "metadata": {
        "id": "jn9GP5T-htfA"
      },
      "execution_count": null,
      "outputs": []
    },
    {
      "cell_type": "markdown",
      "source": [
        "# assingnment operators"
      ],
      "metadata": {
        "id": "lECe1M3ah2tX"
      }
    },
    {
      "cell_type": "code",
      "source": [
        "a=10\n",
        "b=a\n",
        "print(b)\n",
        "b += a\n",
        "print(b)\n",
        "b -= a\n",
        "print(b)\n",
        "b *= a\n",
        "print(b)\n",
        "b <<=a\n",
        "print(b)\n"
      ],
      "metadata": {
        "colab": {
          "base_uri": "https://localhost:8080/"
        },
        "id": "IZiN3Ci6iCp-",
        "outputId": "194d658c-2b5b-453d-d082-e310286143fc"
      },
      "execution_count": null,
      "outputs": [
        {
          "output_type": "stream",
          "name": "stdout",
          "text": [
            "10\n",
            "20\n",
            "10\n",
            "100\n",
            "102400\n"
          ]
        }
      ]
    },
    {
      "cell_type": "code",
      "source": [],
      "metadata": {
        "id": "TKjmGH1CicGt"
      },
      "execution_count": null,
      "outputs": []
    },
    {
      "cell_type": "markdown",
      "source": [
        "# identity operators"
      ],
      "metadata": {
        "id": "zm35NzACiplD"
      }
    },
    {
      "cell_type": "code",
      "source": [
        "a=10\n",
        "b=20\n",
        "c=a\n",
        "print(a is not b)\n",
        "print(a is c)\n",
        "print(b is c)"
      ],
      "metadata": {
        "colab": {
          "base_uri": "https://localhost:8080/"
        },
        "id": "BmEK_4TAitbM",
        "outputId": "1c8cba4b-d373-42be-a193-590c4e8dbf51"
      },
      "execution_count": null,
      "outputs": [
        {
          "output_type": "stream",
          "name": "stdout",
          "text": [
            "True\n",
            "True\n",
            "False\n"
          ]
        }
      ]
    },
    {
      "cell_type": "code",
      "source": [],
      "metadata": {
        "id": "WOR7MMWVi7K7"
      },
      "execution_count": null,
      "outputs": []
    },
    {
      "cell_type": "markdown",
      "source": [
        "# membership operators"
      ],
      "metadata": {
        "id": "G71D4opQjVSg"
      }
    },
    {
      "cell_type": "code",
      "source": [
        "x=10\n",
        "y=15\n",
        "list=[10,20,30,40,50]\n",
        "\n",
        "if (x not in list):\n",
        "    print(\"x is not present in given list\")\n",
        "else:\n",
        "    print(\"x is present in given list\")\n",
        "    if (y in list):\n",
        "        print(\"y is present in given list\")\n",
        "    else:\n",
        "        print(\"y is not present in given list\")"
      ],
      "metadata": {
        "colab": {
          "base_uri": "https://localhost:8080/"
        },
        "id": "US5YVGJeje75",
        "outputId": "9296eef8-ad63-4674-f571-fea5cfcdc779"
      },
      "execution_count": null,
      "outputs": [
        {
          "output_type": "stream",
          "name": "stdout",
          "text": [
            "x is present in given list\n",
            "y is not present in given list\n"
          ]
        }
      ]
    },
    {
      "cell_type": "code",
      "source": [],
      "metadata": {
        "id": "40cQaMx_j5BI"
      },
      "execution_count": null,
      "outputs": []
    },
    {
      "cell_type": "markdown",
      "source": [],
      "metadata": {
        "id": "USwkf71vlNHr"
      }
    },
    {
      "cell_type": "markdown",
      "source": [
        "# The + operator"
      ],
      "metadata": {
        "id": "Kmp_n-dulNbJ"
      }
    },
    {
      "cell_type": "code",
      "source": [
        "(1,2,3)+(4,5,6)"
      ],
      "metadata": {
        "colab": {
          "base_uri": "https://localhost:8080/"
        },
        "id": "x-DI1a8FlZZT",
        "outputId": "72df519e-98fb-47c3-d4de-619f36a255c3"
      },
      "execution_count": null,
      "outputs": [
        {
          "output_type": "execute_result",
          "data": {
            "text/plain": [
              "(1, 2, 3, 4, 5, 6)"
            ]
          },
          "metadata": {},
          "execution_count": 39
        }
      ]
    },
    {
      "cell_type": "code",
      "source": [
        "[1,2,3]+[4,5,6]"
      ],
      "metadata": {
        "colab": {
          "base_uri": "https://localhost:8080/"
        },
        "id": "AJ0Q_eZsljbT",
        "outputId": "b6ebab2c-1262-4b1b-e7fc-e89cdb734c7a"
      },
      "execution_count": null,
      "outputs": [
        {
          "output_type": "execute_result",
          "data": {
            "text/plain": [
              "[1, 2, 3, 4, 5, 6]"
            ]
          },
          "metadata": {},
          "execution_count": 40
        }
      ]
    },
    {
      "cell_type": "code",
      "source": [
        "\"hello\"+ \" \" +\"world\""
      ],
      "metadata": {
        "colab": {
          "base_uri": "https://localhost:8080/",
          "height": 35
        },
        "id": "4Wf1lYMYlrEy",
        "outputId": "c367aca1-ef7b-4c53-fab1-2aef22cf5fde"
      },
      "execution_count": null,
      "outputs": [
        {
          "output_type": "execute_result",
          "data": {
            "text/plain": [
              "'hello world'"
            ],
            "application/vnd.google.colaboratory.intrinsic+json": {
              "type": "string"
            }
          },
          "metadata": {},
          "execution_count": 43
        }
      ]
    },
    {
      "cell_type": "code",
      "source": [],
      "metadata": {
        "id": "MUpmCGXGlzVR"
      },
      "execution_count": null,
      "outputs": []
    },
    {
      "cell_type": "markdown",
      "source": [
        "# the * operator"
      ],
      "metadata": {
        "id": "H8CzS6IHmIs4"
      }
    },
    {
      "cell_type": "code",
      "source": [
        "(1,2,3)*3"
      ],
      "metadata": {
        "colab": {
          "base_uri": "https://localhost:8080/"
        },
        "id": "QGWHN7TmmLKg",
        "outputId": "8e4a7382-ad56-492f-8181-6cdd60983f89"
      },
      "execution_count": null,
      "outputs": [
        {
          "output_type": "execute_result",
          "data": {
            "text/plain": [
              "(1, 2, 3, 1, 2, 3, 1, 2, 3)"
            ]
          },
          "metadata": {},
          "execution_count": 44
        }
      ]
    },
    {
      "cell_type": "code",
      "source": [
        "[11122,890,9999]*3"
      ],
      "metadata": {
        "colab": {
          "base_uri": "https://localhost:8080/"
        },
        "id": "pRmtsxMtmXiw",
        "outputId": "95f66538-634c-429b-cdc6-ba87771322ca"
      },
      "execution_count": null,
      "outputs": [
        {
          "output_type": "execute_result",
          "data": {
            "text/plain": [
              "[11122, 890, 9999, 11122, 890, 9999, 11122, 890, 9999]"
            ]
          },
          "metadata": {},
          "execution_count": 46
        }
      ]
    },
    {
      "cell_type": "code",
      "source": [
        "(\"abhi\"+ \"\" \"lash\")*3"
      ],
      "metadata": {
        "colab": {
          "base_uri": "https://localhost:8080/",
          "height": 35
        },
        "id": "o6P5OrPPmc6P",
        "outputId": "c3250641-6375-4eaf-9d63-3341cc9d8627"
      },
      "execution_count": null,
      "outputs": [
        {
          "output_type": "execute_result",
          "data": {
            "text/plain": [
              "'abhilashabhilashabhilash'"
            ],
            "application/vnd.google.colaboratory.intrinsic+json": {
              "type": "string"
            }
          },
          "metadata": {},
          "execution_count": 47
        }
      ]
    },
    {
      "cell_type": "code",
      "source": [
        "age = 16\n",
        "if age < 18:\n",
        "  print(\"you can't vote!\")\n",
        "else:\n",
        "    print(\"you can vote!\")\n",
        "print(\"done!\")\n"
      ],
      "metadata": {
        "colab": {
          "base_uri": "https://localhost:8080/"
        },
        "id": "3m1CYPw5nAJ9",
        "outputId": "df09b420-0bf9-4ef6-ac92-d6d9ea64ba1d"
      },
      "execution_count": null,
      "outputs": [
        {
          "output_type": "stream",
          "name": "stdout",
          "text": [
            "you can't vote!\n",
            "done!\n"
          ]
        }
      ]
    },
    {
      "cell_type": "code",
      "source": [
        "age=20\n",
        "print(\"you can't vote!\") if age < 18 else print(\"you can vote!\")\n",
        "print(\"done!\")"
      ],
      "metadata": {
        "colab": {
          "base_uri": "https://localhost:8080/"
        },
        "id": "8Ip136iioiCI",
        "outputId": "798cee2e-c4ff-4af9-99ea-f5361b676a25"
      },
      "execution_count": null,
      "outputs": [
        {
          "output_type": "stream",
          "name": "stdout",
          "text": [
            "you can vote!\n",
            "done!\n"
          ]
        }
      ]
    },
    {
      "cell_type": "code",
      "source": [
        "age=int(input(\"enter your age:\"))\n",
        "if age < 18:\n",
        "  print(\"you can't vote!\")\n",
        "else:\n",
        "    print(\"you can vote!\")\n",
        "print(\"done!\")"
      ],
      "metadata": {
        "colab": {
          "base_uri": "https://localhost:8080/"
        },
        "id": "u4RjTKR5o-zH",
        "outputId": "3b69361c-cbb4-4ac1-ae57-9601c1ae9301"
      },
      "execution_count": null,
      "outputs": [
        {
          "output_type": "stream",
          "name": "stdout",
          "text": [
            "enter your age:18\n",
            "you can vote!\n",
            "done!\n"
          ]
        }
      ]
    },
    {
      "cell_type": "code",
      "source": [
        "a=33\n",
        "b=200\n",
        "if b > a:\n",
        "    print(\"b is greater than a\")"
      ],
      "metadata": {
        "colab": {
          "base_uri": "https://localhost:8080/"
        },
        "id": "wlZZkUq4pr1k",
        "outputId": "f838f1e2-ab15-498d-8437-c5314e37cf2d"
      },
      "execution_count": null,
      "outputs": [
        {
          "output_type": "stream",
          "name": "stdout",
          "text": [
            "b is greater than a\n"
          ]
        }
      ]
    },
    {
      "cell_type": "code",
      "source": [
        "if 5 > 1:\n",
        "  print(\"that's tue\")"
      ],
      "metadata": {
        "colab": {
          "base_uri": "https://localhost:8080/"
        },
        "id": "YStuMfheq5aQ",
        "outputId": "a6748dd0-ee14-4d1e-fd34-f1c4fd6f8358"
      },
      "execution_count": null,
      "outputs": [
        {
          "output_type": "stream",
          "name": "stdout",
          "text": [
            "that's tue\n"
          ]
        }
      ]
    },
    {
      "cell_type": "code",
      "source": [
        "x=35\n",
        "\n",
        "if x > 20:\n",
        "    print(\"above twenty,\")\n",
        "    if x > 30:\n",
        "        print(\"and also above 30!\")"
      ],
      "metadata": {
        "colab": {
          "base_uri": "https://localhost:8080/"
        },
        "id": "lCDzKR26rzGN",
        "outputId": "2b182358-99f2-4b36-887d-a8177b5804c6"
      },
      "execution_count": null,
      "outputs": [
        {
          "output_type": "stream",
          "name": "stdout",
          "text": [
            "above twenty,\n",
            "and also above 30!\n"
          ]
        }
      ]
    },
    {
      "cell_type": "code",
      "source": [
        "a=200\n",
        "b=333\n",
        "if b > a:\n",
        "  print(\"b is greater than a\")\n",
        "elif a == b:\n",
        "  print(\"a and b are equal\")\n",
        "else:\n",
        "    print(\"a is greater than b\")"
      ],
      "metadata": {
        "colab": {
          "base_uri": "https://localhost:8080/"
        },
        "id": "6PpF5n64sBUc",
        "outputId": "408e4694-4f66-4336-f4fd-cb6adef1b47f"
      },
      "execution_count": null,
      "outputs": [
        {
          "output_type": "stream",
          "name": "stdout",
          "text": [
            "b is greater than a\n"
          ]
        }
      ]
    },
    {
      "cell_type": "code",
      "source": [
        "a=2\n",
        "b=330\n",
        "\n",
        "print(\"A\") if a > b else print(\"B\")"
      ],
      "metadata": {
        "colab": {
          "base_uri": "https://localhost:8080/"
        },
        "id": "N3BnX6ZKtQoI",
        "outputId": "c3040ccd-d400-4ff2-cbbc-88d2b68f41ef"
      },
      "execution_count": null,
      "outputs": [
        {
          "output_type": "stream",
          "name": "stdout",
          "text": [
            "B\n"
          ]
        }
      ]
    },
    {
      "cell_type": "code",
      "source": [
        "num =-5\n",
        "if num>=0:\n",
        "  print(\"positive or zero\")\n",
        "else:\n",
        "  print(\"negative number\")"
      ],
      "metadata": {
        "colab": {
          "base_uri": "https://localhost:8080/"
        },
        "id": "BTw2F4TKt0Om",
        "outputId": "d50d34e2-32d0-4abd-b537-3c9d133bcea3"
      },
      "execution_count": null,
      "outputs": [
        {
          "output_type": "stream",
          "name": "stdout",
          "text": [
            "negative number\n"
          ]
        }
      ]
    },
    {
      "cell_type": "code",
      "source": [
        "num =  input(\"enter a number:\")\n",
        "if num %2 == 0:\n",
        "  print(\"even\")\n",
        "else:\n",
        "  print(\"odd\")"
      ],
      "metadata": {
        "id": "FR19fQuRuv5T"
      },
      "execution_count": null,
      "outputs": []
    },
    {
      "cell_type": "code",
      "source": [
        "\n"
      ],
      "metadata": {
        "id": "0P3ISd6QvfDn"
      },
      "execution_count": null,
      "outputs": []
    },
    {
      "cell_type": "code",
      "source": [
        "a=1"
      ],
      "metadata": {
        "id": "EJmWP5_U_hKd"
      },
      "execution_count": null,
      "outputs": []
    },
    {
      "cell_type": "code",
      "source": [],
      "metadata": {
        "id": "ULbKkwYY_4js"
      },
      "execution_count": null,
      "outputs": []
    },
    {
      "cell_type": "markdown",
      "source": [
        "# BMI CALULATOR"
      ],
      "metadata": {
        "id": "0qabjH_8_9FP"
      }
    },
    {
      "cell_type": "code",
      "source": [
        "weight = int(input());\n",
        "height = float(input());\n",
        "x = weight/float(height*height);\n",
        "if x < 18.5:\n",
        "    print(\"underweight\");\n",
        "elif x >= 18.5 and x < 25:\n",
        "    print(\"normal\");\n",
        "elif x >= 25 and x < 30:\n",
        "    print(\"overweight\");\n",
        "else:\n",
        "    print(\"obese\");"
      ],
      "metadata": {
        "id": "ill3nObWACa-"
      },
      "execution_count": null,
      "outputs": []
    },
    {
      "cell_type": "code",
      "source": [],
      "metadata": {
        "id": "3IT1NuBSAoi5"
      },
      "execution_count": null,
      "outputs": []
    },
    {
      "cell_type": "markdown",
      "source": [],
      "metadata": {
        "id": "HCu92yAQAtKT"
      }
    }
  ]
}